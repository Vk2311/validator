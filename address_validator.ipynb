{
 "cells": [
  {
   "cell_type": "code",
   "execution_count": 26,
   "id": "2800e36c",
   "metadata": {},
   "outputs": [],
   "source": [
    "import pickle\n",
    "import pandas as pd\n",
    "from sklearn.utils import shuffle\n",
    "from sklearn import metrics\n",
    "from sklearn.model_selection import train_test_split\n",
    "from sklearn.feature_extraction.text import CountVectorizer\n",
    "from sklearn.svm import LinearSVC\n",
    "from sklearn.naive_bayes import MultinomialNB\n",
    "from sklearn.linear_model import LogisticRegression\n",
    "from sklearn.neighbors import KNeighborsClassifier\n",
    "from sklearn.pipeline import Pipeline"
   ]
  },
  {
   "cell_type": "code",
   "execution_count": 2,
   "id": "3caadd45",
   "metadata": {},
   "outputs": [],
   "source": [
    "df = pd.read_csv(r\"C:\\Users\\91819\\Downloads\\Data.csv\")"
   ]
  },
  {
   "cell_type": "code",
   "execution_count": 3,
   "id": "022f0222",
   "metadata": {},
   "outputs": [],
   "source": [
    "df = shuffle(df)"
   ]
  },
  {
   "cell_type": "code",
   "execution_count": 11,
   "id": "6691b926",
   "metadata": {},
   "outputs": [],
   "source": [
    "X = df.ColumnA\n",
    "y = df.columnB"
   ]
  },
  {
   "cell_type": "code",
   "execution_count": 12,
   "id": "d4427d4f",
   "metadata": {},
   "outputs": [],
   "source": [
    "X_train, X_test, y_train, y_test = train_test_split(X,y,random_state=1, test_size= 0.2)"
   ]
  },
  {
   "cell_type": "code",
   "execution_count": 5,
   "id": "42d61da0",
   "metadata": {},
   "outputs": [],
   "source": [
    "vect = CountVectorizer(stop_words='english', ngram_range = (1,1), max_df = .80, min_df = 4)"
   ]
  },
  {
   "cell_type": "code",
   "execution_count": 14,
   "id": "e35ba529",
   "metadata": {},
   "outputs": [],
   "source": [
    "vect.fit(X_train)\n",
    "X_train_dtm = vect.transform(X_train) \n",
    "X_test_dtm = vect.transform(X_test)"
   ]
  },
  {
   "cell_type": "code",
   "execution_count": 18,
   "id": "9c485530",
   "metadata": {},
   "outputs": [
    {
     "name": "stdout",
     "output_type": "stream",
     "text": [
      "\n",
      "Support Vector Machine\n",
      "Accuracy Score: 99.92995200415099%\n",
      "Confusion Matrix: \n",
      "[[38467    23]\n",
      " [    4    51]]\n"
     ]
    }
   ],
   "source": [
    "SVM = LinearSVC()\n",
    "SVM.fit(X_train_dtm, y_train)\n",
    "y_pred = SVM.predict(X_test_dtm)\n",
    "print('\\nSupport Vector Machine')\n",
    "print('Accuracy Score: ',metrics.accuracy_score(y_test,y_pred)*100,'%',sep='')\n",
    "print('Confusion Matrix: ',metrics.confusion_matrix(y_test,y_pred), sep = '\\n')"
   ]
  },
  {
   "cell_type": "code",
   "execution_count": 8,
   "id": "e7d41a1f",
   "metadata": {},
   "outputs": [],
   "source": [
    "test = [\"absc 8754 Broad ghsaf Ave. App dq wq le Valley, CA 92307\"]"
   ]
  },
  {
   "cell_type": "code",
   "execution_count": 20,
   "id": "4f3b352a",
   "metadata": {},
   "outputs": [],
   "source": [
    "test_dtm = vect.transform(test)"
   ]
  },
  {
   "cell_type": "code",
   "execution_count": 6,
   "id": "2afacad9",
   "metadata": {},
   "outputs": [],
   "source": [
    "path = r\"C:\\Users\\91819\\Documents\\GitHub\\validator\\finalized_model.sav\""
   ]
  },
  {
   "cell_type": "code",
   "execution_count": 30,
   "id": "c5a5cc95",
   "metadata": {},
   "outputs": [],
   "source": [
    "filename = \"model.sav\""
   ]
  },
  {
   "cell_type": "code",
   "execution_count": 23,
   "id": "87e3f8e0",
   "metadata": {},
   "outputs": [],
   "source": [
    "predLabel = SVM.predict(test_dtm)"
   ]
  },
  {
   "cell_type": "code",
   "execution_count": 24,
   "id": "d0eec9f8",
   "metadata": {},
   "outputs": [
    {
     "name": "stdout",
     "output_type": "stream",
     "text": [
      "[1]\n"
     ]
    }
   ],
   "source": [
    "print(predLabel)"
   ]
  },
  {
   "cell_type": "code",
   "execution_count": 27,
   "id": "28351956",
   "metadata": {},
   "outputs": [],
   "source": [
    "pipeline = Pipeline([\n",
    "  ('cvt', CountVectorizer()),\n",
    "  ('svm', LinearSVC())\n",
    "  ])"
   ]
  },
  {
   "cell_type": "code",
   "execution_count": 7,
   "id": "b628f3bd",
   "metadata": {},
   "outputs": [],
   "source": [
    "loaded_model = pickle.load(open(path, 'rb'))"
   ]
  },
  {
   "cell_type": "code",
   "execution_count": 31,
   "id": "80b55724",
   "metadata": {},
   "outputs": [],
   "source": [
    "pickle.dump(pipeline, open(filename, 'wb'))"
   ]
  },
  {
   "cell_type": "code",
   "execution_count": null,
   "id": "24b74a16",
   "metadata": {},
   "outputs": [],
   "source": []
  }
 ],
 "metadata": {
  "kernelspec": {
   "display_name": "Python 3 (ipykernel)",
   "language": "python",
   "name": "python3"
  },
  "language_info": {
   "codemirror_mode": {
    "name": "ipython",
    "version": 3
   },
   "file_extension": ".py",
   "mimetype": "text/x-python",
   "name": "python",
   "nbconvert_exporter": "python",
   "pygments_lexer": "ipython3",
   "version": "3.9.12"
  }
 },
 "nbformat": 4,
 "nbformat_minor": 5
}
