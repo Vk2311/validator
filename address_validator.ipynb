{
 "cells": [
  {
   "cell_type": "code",
   "execution_count": 26,
   "id": "2800e36c",
   "metadata": {},
   "outputs": [],
   "source": [
    "import pickle\n",
    "import pandas as pd\n",
    "from sklearn.utils import shuffle\n",
    "from sklearn import metrics\n",
    "from sklearn.model_selection import train_test_split\n",
    "from sklearn.feature_extraction.text import CountVectorizer\n",
    "from sklearn.svm import LinearSVC\n",
    "from sklearn.naive_bayes import MultinomialNB\n",
    "from sklearn.linear_model import LogisticRegression\n",
    "from sklearn.neighbors import KNeighborsClassifier\n",
    "from sklearn.pipeline import Pipeline"
   ]
  },
  {
   "cell_type": "code",
   "execution_count": 2,
   "id": "3caadd45",
   "metadata": {},
   "outputs": [],
   "source": [
    "df = pd.read_csv(r\"C:\\Users\\91819\\Downloads\\Data.csv\")"
   ]
  },
  {
   "cell_type": "code",
   "execution_count": 3,
   "id": "022f0222",
   "metadata": {},
   "outputs": [],
   "source": [
    "df = shuffle(df)"
   ]
  },
  {
   "cell_type": "code",
   "execution_count": 11,
   "id": "6691b926",
   "metadata": {},
   "outputs": [],
   "source": [
    "X = df.ColumnA\n",
    "y = df.columnB"
   ]
  },
  {
   "cell_type": "code",
   "execution_count": 12,
   "id": "d4427d4f",
   "metadata": {},
   "outputs": [],
   "source": [
    "X_train, X_test, y_train, y_test = train_test_split(X,y,random_state=1, test_size= 0.2)"
   ]
  },
  {
   "cell_type": "code",
   "execution_count": 5,
   "id": "42d61da0",
   "metadata": {},
   "outputs": [],
   "source": [
    "vect = CountVectorizer(stop_words='english', ngram_range = (1,1), max_df = .80, min_df = 4)"
   ]
  },
  {
   "cell_type": "code",
   "execution_count": 36,
   "id": "e7d41a1f",
   "metadata": {},
   "outputs": [],
   "source": [
    "test = [\"dhiyqwdgqwkegqwkjd whkajdh awjhawdkj haakwjh,a jhd\"]"
   ]
  },
  {
   "cell_type": "code",
   "execution_count": 20,
   "id": "4f3b352a",
   "metadata": {},
   "outputs": [],
   "source": [
    "test_dtm = vect.transform(test)"
   ]
  },
  {
   "cell_type": "code",
   "execution_count": 6,
   "id": "05d09873",
   "metadata": {},
   "outputs": [],
   "source": [
    "path = r\"C:\\Users\\91819\\Documents\\GitHub\\validator\\finalized_model.sav\""
   ]
  },
  {
   "cell_type": "code",
   "execution_count": 38,
   "id": "f760f711",
   "metadata": {},
   "outputs": [],
   "source": [
    "filename = \"model.sav\""
   ]
  },
  {
   "cell_type": "code",
   "execution_count": 23,
   "id": "87e3f8e0",
   "metadata": {},
   "outputs": [],
   "source": [
    "predLabel = SVM.predict(test_dtm)"
   ]
  },
  {
   "cell_type": "code",
   "execution_count": 24,
   "id": "84b57b02",
   "metadata": {},
   "outputs": [
    {
     "name": "stdout",
     "output_type": "stream",
     "text": [
      "[1]\n"
     ]
    }
   ],
   "source": [
    "print(predLabel)"
   ]
  },
  {
   "cell_type": "code",
   "execution_count": 32,
   "id": "dade2c11",
   "metadata": {},
   "outputs": [],
   "source": [
    "pipeline = Pipeline([\n",
    "  ('cvt', CountVectorizer(stop_words='english', ngram_range = (1,1), max_df = .80, min_df = 4)),\n",
    "  ('svm', LinearSVC())\n",
    "  ])"
   ]
  },
  {
   "cell_type": "code",
   "execution_count": 33,
   "id": "ec027f00",
   "metadata": {},
   "outputs": [
    {
     "data": {
      "text/plain": [
       "Pipeline(steps=[('cvt',\n",
       "                 CountVectorizer(max_df=0.8, min_df=4, stop_words='english')),\n",
       "                ('svm', LinearSVC())])"
      ]
     },
     "execution_count": 33,
     "metadata": {},
     "output_type": "execute_result"
    }
   ],
   "source": [
    "pipeline.fit(X_train,y_train)"
   ]
  },
  {
   "cell_type": "code",
   "execution_count": 37,
   "id": "11c43ac4",
   "metadata": {},
   "outputs": [
    {
     "data": {
      "text/plain": [
       "array([0], dtype=int64)"
      ]
     },
     "execution_count": 37,
     "metadata": {},
     "output_type": "execute_result"
    }
   ],
   "source": [
    "pipeline.predict(test)"
   ]
  },
  {
   "cell_type": "code",
   "execution_count": 34,
   "id": "802ea8c4",
   "metadata": {},
   "outputs": [
    {
     "data": {
      "text/plain": [
       "1.0"
      ]
     },
     "execution_count": 34,
     "metadata": {},
     "output_type": "execute_result"
    }
   ],
   "source": [
    "pipeline.score(X_train,y_train)"
   ]
  },
  {
   "cell_type": "code",
   "execution_count": 7,
   "id": "b628f3bd",
   "metadata": {},
   "outputs": [],
   "source": [
    "loaded_model = pickle.load(open(path, 'rb'))"
   ]
  },
  {
   "cell_type": "code",
   "execution_count": 39,
   "id": "80b55724",
   "metadata": {},
   "outputs": [],
   "source": [
    "pickle.dump(pipeline, open(filename, 'wb'))"
   ]
  },
  {
   "cell_type": "code",
   "execution_count": null,
   "id": "e92c4a2a",
   "metadata": {},
   "outputs": [],
   "source": []
  }
 ],
 "metadata": {
  "kernelspec": {
   "display_name": "Python 3 (ipykernel)",
   "language": "python",
   "name": "python3"
  },
  "language_info": {
   "codemirror_mode": {
    "name": "ipython",
    "version": 3
   },
   "file_extension": ".py",
   "mimetype": "text/x-python",
   "name": "python",
   "nbconvert_exporter": "python",
   "pygments_lexer": "ipython3",
   "version": "3.9.12"
  }
 },
 "nbformat": 4,
 "nbformat_minor": 5
}
